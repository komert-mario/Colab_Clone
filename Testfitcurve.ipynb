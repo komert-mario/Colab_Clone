{
  "nbformat": 4,
  "nbformat_minor": 0,
  "metadata": {
    "kernelspec": {
      "display_name": "Python 2",
      "language": "python",
      "name": "python2"
    },
    "language_info": {
      "codemirror_mode": {
        "name": "ipython",
        "version": 2
      },
      "file_extension": ".py",
      "mimetype": "text/x-python",
      "name": "python",
      "nbconvert_exporter": "python",
      "pygments_lexer": "ipython2",
      "version": "2.7.16"
    },
    "colab": {
      "name": "Testfitcurve.ipynb",
      "provenance": [],
      "collapsed_sections": [],
      "include_colab_link": true
    }
  },
  "cells": [
    {
      "cell_type": "markdown",
      "metadata": {
        "id": "view-in-github",
        "colab_type": "text"
      },
      "source": [
        "<a href=\"https://colab.research.google.com/github/komert-mario/MWIT_POSN_2020/blob/main/Testfitcurve.ipynb\" target=\"_parent\"><img src=\"https://colab.research.google.com/assets/colab-badge.svg\" alt=\"Open In Colab\"/></a>"
      ]
    },
    {
      "cell_type": "code",
      "metadata": {
        "colab": {
          "base_uri": "https://localhost:8080/",
          "height": 269
        },
        "id": "zHAlFuviUycb",
        "outputId": "dc6c726b-0c2e-4711-c8f7-6e06b4113b01"
      },
      "source": [
        "import numpy as np\n",
        "from scipy import optimize\n",
        "import matplotlib.pyplot as plt\n",
        "\n",
        "x = np.array([144.04105275565783,144.30284902067984,144.57663318408046,144.86251545082868,145.16061142654615,145.47104223459016,145.79393463955583,\n",
        " 146.12942117743847,146.47764029271158,146.83873648259146,147.21286044877837,147.60016925697911,148.000826504537,148.41500249651452,\n",
        " 148.84287443059438,149.28453685831388,149.74035798684903,150.21044995531037,150.695019569797,151.19428160023688,151.7084590272466,\n",
        " 152.23778330108493,152.78249461329,153.34284218162608,153.91908454900545,154.5114898970923,155.12033637534006,155.7459124462602,\n",
        " 156.3885172477729,157.0484609735423,157.72592799112468,158.42152275350384,159.13545737894108,159.86809047951755,160.6197939303347,\n",
        " 161.39173425358442,162.1819687890083,162.99325499154642,163.8252422922862,164.67837708992025,165.55312253524974,166.44995922379246,\n",
        " 167.36938592529228,168.31192035237564,169.27809997076008])\n",
        "y= np.array([24.82, 25.22, 31.96, 35.8 ,\n",
        "       38.96, 42.9 , 45.94, 51.52, 56.56, 59.04, 62.96, 70.72, 73.54,\n",
        "       74.84, 76.52, 75.28, 66.  , 65.74, 67.36, 53.78, 48.66, 40.18,\n",
        "       36.84, 29.18, 22.32, 19.68, 17.1 , 16.96, 18.94, 23.02, 29.  ,\n",
        "       36.96, 47.26, 57.36, 66.22, 73.14, 77.66, 79.84, 70.88, 69.46,\n",
        "       64.52, 56.58, 46.9 , 34.88, 27.04])\n",
        "\n",
        "\n",
        "plt.figure(figsize=(6, 4))\n",
        "plt.scatter(x, y, color='red')\n",
        "plt.show()"
      ],
      "execution_count": null,
      "outputs": [
        {
          "output_type": "display_data",
          "data": {
            "image/png": "[encoded data removed]",
            "text/plain": [
              "<Figure size 432x288 with 1 Axes>"
            ]
          },
          "metadata": {
            "tags": [],
            "needs_background": "light"
          }
        }
      ]
    },
    {
      "cell_type": "code",
      "metadata": {
        "colab": {
          "base_uri": "https://localhost:8080/",
          "height": 371
        },
        "id": "3QTC3sP9Uycc",
        "outputId": "791fae83-ac84-4f6d-dc19-731999245acc"
      },
      "source": [
        "def test_func(x, a, b, c, d):\n",
        "    return a* np.sin(b*x*np.pi/180 -c) + d # a and b are values for optimization\n",
        "\n",
        "params, params_covariance = optimize.curve_fit(test_func, x, y, p0=[1,2,3,4])\n",
        "\n",
        "print'Parameters from fitting: a= %0.2f, b= %0.2f, c= %0.2f, and d= %0.2f'%(params[0],params[1],params[2],params[3])  \n",
        "print'Covaraince parameters: ', params_covariance\n",
        "print 'Standard deviation error for a, b, c, and d: ', np.sqrt(np.diag(params_covariance))\n",
        "\n",
        "plt.figure(figsize=(6, 4))\n",
        "plt.plot(x, test_func(x, params[0], params[1], params[2], params[3]),'--',label='Fitted')\n",
        "plt.legend(loc='best') ## it can be fixed position of legend if you want\n",
        "\n",
        "plt.show()"
      ],
      "execution_count": null,
      "outputs": [
        {
          "output_type": "stream",
          "text": [
            "Parameters from fitting: a= -28.55, b= -25.51, c= -71.02, and d= 45.85\n",
            "Covaraince parameters:  [[ 1.54363512 -0.05451764 -0.14567031  0.23820464]\n",
            " [-0.05451764  0.09924337  0.26624872 -0.12159484]\n",
            " [-0.14567031  0.26624872  0.71577975 -0.32993976]\n",
            " [ 0.23820464 -0.12159484 -0.32993976  0.83788038]]\n",
            "Standard deviation error for a, b, c, and d:  [1.24243113 0.31502916 0.84603768 0.91535806]\n"
          ],
          "name": "stdout"
        },
        {
          "output_type": "display_data",
          "data": {
            "image/png": "[encoded data removed]",
            "text/plain": [
              "<Figure size 432x288 with 1 Axes>"
            ]
          },
          "metadata": {
            "tags": [],
            "needs_background": "light"
          }
        }
      ]
    },
    {
      "cell_type": "code",
      "metadata": {
        "colab": {
          "base_uri": "https://localhost:8080/"
        },
        "id": "_D_us80fUycd",
        "outputId": "56329e54-e18f-4729-bc36-2a226e2a3292"
      },
      "source": [
        "!pip install lmfit\n"
      ],
      "execution_count": null,
      "outputs": [
        {
          "output_type": "stream",
          "text": [
            "Collecting lmfit\n",
            "\u001b[?25l  Downloading https://files.pythonhosted.org/packages/4f/11/60210857e3e96661b4cf5fc243cd0c38390e9f726abbb843e68fbc07bddb/lmfit-0.9.15.tar.gz (4.2MB)\n",
            "\u001b[K     |████████████████████████████████| 4.2MB 8.9MB/s \n",
            "\u001b[?25hCollecting asteval>=0.9.16\n",
            "\u001b[?25l  Downloading https://files.pythonhosted.org/packages/b5/a9/c353f8fde8c7a5eedca5ac4671f8378da2cea71878c1fd11ec89d22c47a8/asteval-0.9.17.tar.gz (53kB)\n",
            "\u001b[K     |████████████████████████████████| 61kB 8.0MB/s \n",
            "\u001b[?25hRequirement already satisfied: numpy>=1.16 in /usr/local/lib/python2.7/dist-packages (from lmfit) (1.16.4)\n",
            "Requirement already satisfied: scipy>=1.2 in /usr/local/lib/python2.7/dist-packages (from lmfit) (1.2.2)\n",
            "Requirement already satisfied: six>=1.11 in /usr/local/lib/python2.7/dist-packages (from lmfit) (1.15.0)\n",
            "Collecting uncertainties>=3.0.1\n",
            "\u001b[?25l  Downloading https://files.pythonhosted.org/packages/45/41/fc7e7b73b603e7c2c9e040b7aa8caf4a88d74b6faa567601ed82b6f0d8e1/uncertainties-3.1.5-py2.py3-none-any.whl (246kB)\n",
            "\u001b[K     |████████████████████████████████| 256kB 45.7MB/s \n",
            "\u001b[?25hRequirement already satisfied: future in /usr/local/lib/python2.7/dist-packages (from uncertainties>=3.0.1->lmfit) (0.16.0)\n",
            "Building wheels for collected packages: lmfit, asteval\n",
            "  Building wheel for lmfit (setup.py) ... \u001b[?25l\u001b[?25hdone\n",
            "  Created wheel for lmfit: filename=lmfit-0.9.15-cp27-none-any.whl size=88335 sha256=d4af4e5238cc8716254b1e1d6b754738d159e878d09336090bd29e31cadb324c\n",
            "  Stored in directory: /root/.cache/pip/wheels/38/ef/1f/6db53cabb4f46dd2aaded20aba1a1fe5f56d0acf7297c937b8\n",
            "  Building wheel for asteval (setup.py) ... \u001b[?25l\u001b[?25hdone\n",
            "  Created wheel for asteval: filename=asteval-0.9.17-cp27-none-any.whl size=17744 sha256=a29fc06af19592cb6320d73780d4182841dadb22dd8e8c0d09bfb247073023a1\n",
            "  Stored in directory: /root/.cache/pip/wheels/49/74/b2/5b7bcf77e0eed2c654451c84b52d5c7d2fbd95c0e3b36efe0e\n",
            "Successfully built lmfit asteval\n",
            "Installing collected packages: asteval, uncertainties, lmfit\n",
            "Successfully installed asteval-0.9.17 lmfit-0.9.15 uncertainties-3.1.5\n"
          ],
          "name": "stdout"
        }
      ]
    },
    {
      "cell_type": "code",
      "metadata": {
        "id": "YlsWNbJXUycd"
      },
      "source": [
        "from lmfit import Model\n",
        "import matplotlib.pyplot as plt"
      ],
      "execution_count": null,
      "outputs": []
    },
    {
      "cell_type": "code",
      "metadata": {
        "colab": {
          "base_uri": "https://localhost:8080/"
        },
        "id": "EFwgctrdUycd",
        "outputId": "1d20983e-fb58-43b6-96bf-b78c5da92c9f"
      },
      "source": [
        "'''\n",
        "t = np.array([144.04105275565783,144.30284902067984,144.57663318408046,144.86251545082868,145.16061142654615,145.47104223459016,145.79393463955583,\n",
        " 146.12942117743847,146.47764029271158,146.83873648259146,147.21286044877837,147.60016925697911,148.000826504537,148.41500249651452,\n",
        " 148.84287443059438,149.28453685831388,149.74035798684903,150.21044995531037,150.695019569797,151.19428160023688,151.7084590272466,\n",
        " 152.23778330108493,152.78249461329,153.34284218162608,153.91908454900545,154.5114898970923,155.12033637534006,155.7459124462602,\n",
        " 156.3885172477729,157.0484609735423,157.72592799112468,158.42152275350384,159.13545737894108,159.86809047951755,160.6197939303347,\n",
        " 161.39173425358442,162.1819687890083,162.99325499154642,163.8252422922862,164.67837708992025,165.55312253524974,166.44995922379246,\n",
        " 167.36938592529228,168.31192035237564,169.27809997076008])\n",
        "\n",
        "data= np.array([24.82, 25.22, 31.96, 35.8 , 38.96, 42.9 , 45.94, 51.52, 56.56, 59.04, 62.96, 70.72, 73.54,\n",
        "74.84, 76.52, 75.28, 66.  , 65.74, 67.36, 53.78, 48.66, 40.18, 36.84, 29.18, 22.32, 19.68, 17.1 , 16.96, 18.94, 23.02, 29.,\n",
        "36.96, 47.26, 57.36, 66.22, 73.14, 77.66, 79.84, 70.88, 69.46, 64.52, 56.58, 46.9 , 34.88, 27.04])\n",
        "\n",
        "def sinefunction(x, a, b, c, d):\n",
        "    return a* np.sin(b*x*np.pi/180 -c) + d \n",
        "\n",
        "smodel = Model(sinefunction)\n",
        "result = smodel.fit(data, x=t, a=-28, b=-25, c=-71, d=46)\n",
        "\n",
        "print(result.fit_report())\n",
        "\n",
        "plt.plot(t, data, 'o', label='data')\n",
        "plt.plot(t, result.best_fit, '--', label='fit')\n",
        "plt.legend()\n",
        "plt.show()\n",
        "'''"
      ],
      "execution_count": null,
      "outputs": [
        {
          "output_type": "execute_result",
          "data": {
            "application/vnd.google.colaboratory.intrinsic+json": {
              "type": "string"
            },
            "text/plain": [
              "\"\\nt = np.array([144.04105275565783,144.30284902067984,144.57663318408046,144.86251545082868,145.16061142654615,145.47104223459016,145.79393463955583,\\n 146.12942117743847,146.47764029271158,146.83873648259146,147.21286044877837,147.60016925697911,148.000826504537,148.41500249651452,\\n 148.84287443059438,149.28453685831388,149.74035798684903,150.21044995531037,150.695019569797,151.19428160023688,151.7084590272466,\\n 152.23778330108493,152.78249461329,153.34284218162608,153.91908454900545,154.5114898970923,155.12033637534006,155.7459124462602,\\n 156.3885172477729,157.0484609735423,157.72592799112468,158.42152275350384,159.13545737894108,159.86809047951755,160.6197939303347,\\n 161.39173425358442,162.1819687890083,162.99325499154642,163.8252422922862,164.67837708992025,165.55312253524974,166.44995922379246,\\n 167.36938592529228,168.31192035237564,169.27809997076008])\\n\\ndata= np.array([24.82, 25.22, 31.96, 35.8 , 38.96, 42.9 , 45.94, 51.52, 56.56, 59.04, 62.96, 70.72, 73.54,\\n74.84, 76.52, 75.28, 66.  , 65.74, 67.36, 53.78, 48.66, 40.18, 36.84, 29.18, 22.32, 19.68, 17.1 , 16.96, 18.94, 23.02, 29.,\\n36.96, 47.26, 57.36, 66.22, 73.14, 77.66, 79.84, 70.88, 69.46, 64.52, 56.58, 46.9 , 34.88, 27.04])\\n\\ndef sinefunction(x, a, b, c, d):\\n    return a* np.sin(b*x*np.pi/180 -c) + d \\n\\nsmodel = Model(sinefunction)\\nresult = smodel.fit(data, x=t, a=-28, b=-25, c=-71, d=46)\\n\\nprint(result.fit_report())\\n\\nplt.plot(t, data, 'o', label='data')\\nplt.plot(t, result.best_fit, '--', label='fit')\\nplt.legend()\\nplt.show()\\n\""
            ]
          },
          "metadata": {
            "tags": []
          },
          "execution_count": 14
        }
      ]
    },
    {
      "cell_type": "code",
      "metadata": {
        "id": "HM1ICauFUyce",
        "colab": {
          "base_uri": "https://localhost:8080/",
          "height": 337
        },
        "outputId": "728a090e-0f39-462b-bfe3-150f6cd86d45"
      },
      "source": [
        "#constants\n",
        "bg_with= 2.4\n",
        "bg_with= 2.5\n",
        "t=1.58*(10**(-3))\n",
        "ne=1.553\n",
        "no=1.544\n",
        "wl=633*(10**(-9))\n",
        "pi=np.pi\n",
        "\n",
        "def d(a):\n",
        "    return t/(np.cos(np.radians(a)))\n",
        "    \n",
        "def PS(a):\n",
        "    return (2*pi*d(a)*(ne-no)/wl)\n",
        "\n",
        "x=[12.0022\n",
        ",12.5023\n",
        ",13.0024\n",
        ",13.5025\n",
        ",14.0026\n",
        ",14.5027\n",
        ",15.0028\n",
        ",15.5029\n",
        ",16.003\n",
        ",16.5031\n",
        ",17.0032\n",
        ",17.5033\n",
        ",18.0034\n",
        ",18.5035\n",
        ",19.0035\n",
        ",19.5036\n",
        ",20.0037\n",
        ",20.5038\n",
        ",21.0039\n",
        ",21.504\n",
        ",22.0041\n",
        ",22.5042\n",
        ",23.0043\n",
        ",23.5044\n",
        ",24.0045\n",
        ",24.5046\n",
        ",25.0047\n",
        ",25.5048\n",
        ",26.0049\n",
        ",26.5049\n",
        ",27.005\n",
        ",27.5051\n",
        ",28.0052\n",
        ",28.5053\n",
        ",29.0059\n",
        ",29.5055\n",
        ",30.0061\n",
        ",30.5057\n",
        ",31.0063\n",
        ",31.5059\n",
        ",32.0065\n",
        ",32.5061\n",
        ",33.0062\n",
        ",33.5063\n",
        ",34.0063\n",
        ",34.5064\n",
        ",35.0065\n",
        ",35.5066\n",
        ",36.0067\n",
        ",36.5068\n",
        ",37.0069\n",
        ",37.507\n",
        ",38.0071\n",
        ",38.5072\n",
        ",39.0073]\n",
        "x1=np.array([PS(a) for a in x])\n",
        "x1=np.array([i/np.pi for i in x1]) #rad to pi\n",
        "y1=np.array([91.74\n",
        ",92.78\n",
        ",91.72\n",
        ",90.58\n",
        ",93.38\n",
        ",92.34\n",
        ",92.92\n",
        ",93.46\n",
        ",93.24\n",
        ",94.7\n",
        ",96.12\n",
        ",98.02\n",
        ",97.78\n",
        ",99.36\n",
        ",95.94\n",
        ",95.72\n",
        ",93.68\n",
        ",93.44\n",
        ",93.64\n",
        ",91.74\n",
        ",92.78\n",
        ",91.72\n",
        ",90.58\n",
        ",93.38\n",
        ",92.34\n",
        ",92.92\n",
        ",93.46\n",
        ",93.24\n",
        ",94.7\n",
        ",96.12\n",
        ",98.02\n",
        ",97.78\n",
        ",99.36\n",
        ",100.14\n",
        ",101.48\n",
        ",103.12\n",
        ",103.74\n",
        ",103.62\n",
        ",102.04\n",
        ",103.16\n",
        ",101.04\n",
        ",95.08\n",
        ",92.02\n",
        ",97.38\n",
        ",95.8\n",
        ",93.9\n",
        ",92.92\n",
        ",88.82\n",
        ",89.84\n",
        ",88.24\n",
        ",93.12\n",
        ",89.02\n",
        ",99.6\n",
        ",100.24\n",
        ",93.92])\n",
        "\n",
        "#plt.plot(x,y)\n",
        "\n",
        "m, b1 = np.polyfit(x1,y1,1)\n",
        "plt.plot(x1,m*x1+b1)\n",
        "print(m)\n",
        "print(b1)\n",
        "print(PS(19.0035))\n",
        "print(y1[1])"
      ],
      "execution_count": null,
      "outputs": [
        {
          "output_type": "stream",
          "text": [
            "0.15590275254143074\n",
            "87.34504880674945\n",
            "149.28453685831388\n",
            "92.78\n"
          ],
          "name": "stdout"
        },
        {
          "output_type": "display_data",
          "data": {
            "image/png": "[encoded data removed]",
            "text/plain": [
              "<Figure size 432x288 with 1 Axes>"
            ]
          },
          "metadata": {
            "tags": [],
            "needs_background": "light"
          }
        }
      ]
    },
    {
      "cell_type": "code",
      "metadata": {
        "id": "ibjUo_xl9Ezq"
      },
      "source": [
        "plt.rcParams['font.family']='Tahoma'"
      ],
      "execution_count": null,
      "outputs": []
    },
    {
      "cell_type": "code",
      "metadata": {
        "colab": {
          "base_uri": "https://localhost:8080/",
          "height": 639
        },
        "id": "VmOH4mkLtTCC",
        "outputId": "213ce2b7-96f0-4c09-d2b6-af495e466c0c"
      },
      "source": [
        "x = np.array([144.04105275565783,144.30284902067984,144.57663318408046,144.86251545082868,145.16061142654615,145.47104223459016,145.79393463955583,\n",
        " 146.12942117743847,146.47764029271158,146.83873648259146,147.21286044877837,147.60016925697911,148.000826504537,148.41500249651452,\n",
        " 148.84287443059438,149.28453685831388,149.74035798684903,150.21044995531037,150.695019569797,151.19428160023688,151.7084590272466,\n",
        " 152.23778330108493,152.78249461329,153.34284218162608,153.91908454900545,154.5114898970923,155.12033637534006,155.7459124462602,\n",
        " 156.3885172477729,157.0484609735423,157.72592799112468,158.42152275350384,159.13545737894108,159.86809047951755,160.6197939303347,\n",
        " 161.39173425358442,162.1819687890083,162.99325499154642,163.8252422922862,164.67837708992025,165.55312253524974,166.44995922379246,\n",
        " 167.36938592529228,168.31192035237564,169.27809997076008])\n",
        "x=np.array([j/np.pi for j in x]) #rad to pi\n",
        "y= np.array([24.82, 25.22, 31.96, 35.8 ,\n",
        "       38.96, 42.9 , 45.94, 51.52, 56.56, 59.04, 62.96, 70.72, 73.54,\n",
        "       74.84, 76.52, 75.28, 66.  , 65.74, 67.36, 53.78, 48.66, 40.18,\n",
        "       36.84, 29.18, 22.32, 19.68, 17.1 , 16.96, 18.94, 23.02, 29.  ,\n",
        "       36.96, 47.26, 57.36, 66.22, 73.14, 77.66, 79.84, 70.88, 69.46,\n",
        "       64.52, 56.58, 46.9 , 34.88, 27.04])\n",
        "\n",
        "def test_func(x, a, b, c, d):\n",
        "    return a* np.sin(b*x*np.pi/180 -c) + d # a and b are values for optimization\n",
        "\n",
        "params, params_covariance = optimize.curve_fit(test_func, x, y, p0=[1,2,3,4])\n",
        "\n",
        "print'Parameters from fitting: a= %0.2f, b= %0.2f, c= %0.2f, and d= %0.2f'%(params[0],params[1],params[2],params[3])  \n",
        "print'Covaraince parameters: ', params_covariance\n",
        "print 'Standard deviation error for a, b, c, and d: ', np.sqrt(np.diag(params_covariance))\n",
        "\n",
        "plt.figure(figsize=(16, 8))\n",
        "plt.scatter(x, y, color='green')\n",
        "plt.scatter(x1[:-11],y1[:-11] ,color='red')\n",
        "plt.plot(x, test_func(x, params[0], params[1], params[2], params[3]),'--',label='Fit (WP)')\n",
        "plt.legend(loc='best') ## it can be fixed position of legend if you want\n",
        "\n",
        "plt.plot(x1[:-11], m*x1[:-11]+b1 ,label='Fit curve (WoP)')\n",
        "plt.legend(loc='center right', borderaxespad=0.)\n",
        "##plt.gca(title='The graph show the angle that rotation of Quater Wave Olate between Intensity(mV)')\n",
        "plt.show()\n",
        "residuals = y- test_func(x, *params)\n",
        "ss_res = np.sum(residuals**2)\n",
        "ss_tot = np.sum((y-np.mean(y))**2)\n",
        "r_squared = 1 - (ss_res / ss_tot)\n",
        "print('r_squared = %f' %r_squared)"
      ],
      "execution_count": null,
      "outputs": [
        {
          "output_type": "stream",
          "text": [
            "Parameters from fitting: a= -28.55, b= 80.14, c= 61.59, and d= 45.85\n",
            "Covaraince parameters:  [[1.54361404 0.17122635 0.14563113 0.23818164]\n",
            " [0.17122635 0.97950358 0.8364541  0.38200439]\n",
            " [0.14563113 0.8364541  0.71578746 0.32994229]\n",
            " [0.23818164 0.38200439 0.32994229 0.83788014]]\n",
            "Standard deviation error for a, b, c, and d:  [1.24242265 0.98969873 0.84604223 0.91535793]\n"
          ],
          "name": "stdout"
        },
        {
          "output_type": "stream",
          "text": [
            "/usr/local/lib/python2.7/dist-packages/matplotlib/font_manager.py:1331: UserWarning: findfont: Font family [u'Tahoma'] not found. Falling back to DejaVu Sans\n",
            "  (prop.get_family(), self.defaultFamily[fontext]))\n"
          ],
          "name": "stderr"
        },
        {
          "output_type": "display_data",
          "data": {
            "image/png": "[encoded data removed]",
            "text/plain": [
              "<Figure size 1152x576 with 1 Axes>"
            ]
          },
          "metadata": {
            "tags": [],
            "needs_background": "light"
          }
        },
        {
          "output_type": "stream",
          "text": [
            "r_squared = 0.929236\n"
          ],
          "name": "stdout"
        }
      ]
    },
    {
      "cell_type": "code",
      "metadata": {
        "colab": {
          "base_uri": "https://localhost:8080/"
        },
        "id": "73_RZlk0z0q1",
        "outputId": "32f3babb-d2ca-4af8-c1b7-67f06c44f22e"
      },
      "source": [
        "18.5035,76.52\n",
        "30.0056,79.84\n",
        "(PS(30.0056)-PS(18.5035))/np.pi"
      ],
      "execution_count": null,
      "outputs": [
        {
          "output_type": "execute_result",
          "data": {
            "text/plain": [
              "4.50420602581397"
            ]
          },
          "metadata": {
            "tags": []
          },
          "execution_count": 9
        }
      ]
    }
  ]
}