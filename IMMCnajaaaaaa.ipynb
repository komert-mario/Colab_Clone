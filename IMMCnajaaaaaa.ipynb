{
  "nbformat": 4,
  "nbformat_minor": 0,
  "metadata": {
    "colab": {
      "name": "IMMCnajaaaaaa.ipynb",
      "provenance": [],
      "collapsed_sections": [
        "SBHwBA5Dwhow",
        "uJfrnrjh15bZ",
        "E3NGfOVGBF2T",
        "H2ITOKJJKLD1"
      ],
      "include_colab_link": true
    },
    "kernelspec": {
      "name": "python3",
      "display_name": "Python 3"
    },
    "language_info": {
      "name": "python"
    }
  },
  "cells": [
    {
      "cell_type": "markdown",
      "metadata": {
        "id": "view-in-github",
        "colab_type": "text"
      },
      "source": [
        "<a href=\"https://colab.research.google.com/github/komert-mario/MWIT_POSN_2020/blob/main/IMMCnajaaaaaa.ipynb\" target=\"_parent\"><img src=\"https://colab.research.google.com/assets/colab-badge.svg\" alt=\"Open In Colab\"/></a>"
      ]
    },
    {
      "cell_type": "code",
      "metadata": {
        "colab": {
          "base_uri": "https://localhost:8080/"
        },
        "id": "9bu6ATP_-5yq",
        "outputId": "508a2788-2510-472c-dbe0-57b5b94ee494"
      },
      "source": [
        "!pip install lmfit\n",
        "!pip install spicy\n",
        "!pip install fsspec"
      ],
      "execution_count": null,
      "outputs": [
        {
          "output_type": "stream",
          "text": [
            "Collecting lmfit\n",
            "\u001b[?25l  Downloading https://files.pythonhosted.org/packages/67/70/0ef97b9d67b63efce0b720563e1c87ebfc15b565e89adde0c66c1025c848/lmfit-1.0.2.tar.gz (306kB)\n",
            "\u001b[K     |████████████████████████████████| 307kB 4.9MB/s \n",
            "\u001b[?25hCollecting asteval>=0.9.16\n",
            "\u001b[?25l  Downloading https://files.pythonhosted.org/packages/32/06/efc5ea08dc44836abbabbd949d944d6fde08312ce756557e16ab1ca477a4/asteval-0.9.23.tar.gz (55kB)\n",
            "\u001b[K     |████████████████████████████████| 61kB 4.2MB/s \n",
            "\u001b[?25hRequirement already satisfied: numpy>=1.16 in /usr/local/lib/python3.7/dist-packages (from lmfit) (1.19.5)\n",
            "Requirement already satisfied: scipy>=1.2 in /usr/local/lib/python3.7/dist-packages (from lmfit) (1.4.1)\n",
            "Collecting uncertainties>=3.0.1\n",
            "\u001b[?25l  Downloading https://files.pythonhosted.org/packages/45/41/fc7e7b73b603e7c2c9e040b7aa8caf4a88d74b6faa567601ed82b6f0d8e1/uncertainties-3.1.5-py2.py3-none-any.whl (246kB)\n",
            "\u001b[K     |████████████████████████████████| 256kB 7.5MB/s \n",
            "\u001b[?25hRequirement already satisfied: future in /usr/local/lib/python3.7/dist-packages (from uncertainties>=3.0.1->lmfit) (0.16.0)\n",
            "Building wheels for collected packages: lmfit, asteval\n",
            "  Building wheel for lmfit (setup.py) ... \u001b[?25l\u001b[?25hdone\n",
            "  Created wheel for lmfit: filename=lmfit-1.0.2-cp37-none-any.whl size=85265 sha256=f919a74d9a1596c2de3c6be8935052d8c3cb1eebefb436e07783c4dcd4df2d6a\n",
            "  Stored in directory: /root/.cache/pip/wheels/d4/5e/db/d9f5987d9f15bf910feb5e0274ac601d5f2161dc78aedfacfa\n",
            "  Building wheel for asteval (setup.py) ... \u001b[?25l\u001b[?25hdone\n",
            "  Created wheel for asteval: filename=asteval-0.9.23-cp37-none-any.whl size=17419 sha256=bd3fb124dc1145447c89550419233fefea74a2a69ef781f1238059544c27c92c\n",
            "  Stored in directory: /root/.cache/pip/wheels/56/d6/43/4b5d8a9fd98b976031768673658c8b8d08dc9dcc0fa1907ad0\n",
            "Successfully built lmfit asteval\n",
            "Installing collected packages: asteval, uncertainties, lmfit\n",
            "Successfully installed asteval-0.9.23 lmfit-1.0.2 uncertainties-3.1.5\n",
            "Collecting spicy\n",
            "  Downloading https://files.pythonhosted.org/packages/10/f7/58fd43678e56f6eed4b4a186dba367be3b56f95bb5a15741a0bf9861dde4/spicy-0.16.0-py2.py3-none-any.whl\n",
            "Requirement already satisfied: scipy in /usr/local/lib/python3.7/dist-packages (from spicy) (1.4.1)\n",
            "Requirement already satisfied: numpy>=1.13.3 in /usr/local/lib/python3.7/dist-packages (from scipy->spicy) (1.19.5)\n",
            "Installing collected packages: spicy\n",
            "Successfully installed spicy-0.16.0\n",
            "Collecting fsspec\n",
            "\u001b[?25l  Downloading https://files.pythonhosted.org/packages/91/0d/a6bfee0ddf47b254286b9bd574e6f50978c69897647ae15b14230711806e/fsspec-0.8.7-py3-none-any.whl (103kB)\n",
            "\u001b[K     |████████████████████████████████| 112kB 6.0MB/s \n",
            "\u001b[?25hRequirement already satisfied: importlib-metadata; python_version < \"3.8\" in /usr/local/lib/python3.7/dist-packages (from fsspec) (3.8.1)\n",
            "Requirement already satisfied: zipp>=0.5 in /usr/local/lib/python3.7/dist-packages (from importlib-metadata; python_version < \"3.8\"->fsspec) (3.4.1)\n",
            "Requirement already satisfied: typing-extensions>=3.6.4; python_version < \"3.8\" in /usr/local/lib/python3.7/dist-packages (from importlib-metadata; python_version < \"3.8\"->fsspec) (3.7.4.3)\n",
            "Installing collected packages: fsspec\n",
            "Successfully installed fsspec-0.8.7\n"
          ],
          "name": "stdout"
        }
      ]
    },
    {
      "cell_type": "code",
      "metadata": {
        "id": "eZ8DNbs7-Uct"
      },
      "source": [
        "import numpy as np\n",
        "import pandas as pd\n",
        "from scipy import optimize\n",
        "import scipy.stats as stats\n",
        "import matplotlib.pyplot as plt\n",
        "from lmfit import Model\n",
        "from datetime import date\n",
        "import os"
      ],
      "execution_count": null,
      "outputs": []
    },
    {
      "cell_type": "code",
      "metadata": {
        "id": "eDKoi27fEh-A"
      },
      "source": [
        "wta_match_2018 = pd.read_csv('https://github.com/JeffSackmann/tennis_wta/raw/master/wta_matches_2018.csv')"
      ],
      "execution_count": null,
      "outputs": []
    },
    {
      "cell_type": "markdown",
      "metadata": {
        "id": "bcrgZGR-7pcx"
      },
      "source": [
        "# Define Function\n"
      ]
    },
    {
      "cell_type": "code",
      "metadata": {
        "id": "UclAy54w7apG"
      },
      "source": [
        "def elo_calc(winner_name, loser_name, score_str, date_now, dict_elo, dict_prev):\n",
        "    who_won = 1\n",
        "\n",
        "    ## Set new ELOs and change ELOs due to inactivity\n",
        "    if winner_name not in dict_elo:\n",
        "      dict_elo[winner_name] = 1200\n",
        "      dict_prev[winner_name] = date_now\n",
        "    elif dict_elo[winner_name] > 1200:\n",
        "      date_prev = str(dict_prev[winner_name])\n",
        "      dict_prev[winner_name]=date_now\n",
        "      date_now = str(date_now)\n",
        "      d0=date(int(date_prev[:4]), int(date_prev[4:6]), int(date_prev[6:8]))\n",
        "      d1=date(int(date_now[:4]), int(date_now[4:6]), int(date_now[6:8]))\n",
        "      delta = d1 - d0\n",
        "      day_change = delta.days\n",
        "\n",
        "      if day_change > 28:\n",
        "        dict_elo[winner_name] = (dict_elo[winner_name] - 1200)/(1 + 1.001 ** (day_change/7)) +1200\n",
        "\n",
        "    date_now =str(date_now)\n",
        "\n",
        "    if loser_name not in dict_elo:\n",
        "      dict_elo[loser_name] = 1200\n",
        "      dict_prev[loser_name] = date_now\n",
        "    elif dict_elo[loser_name] > 1200:\n",
        "      date_prev = str(dict_prev[loser_name])\n",
        "      dict_prev[loser_name]=date_now\n",
        "      date_now = str(date_now)\n",
        "      d0=date(int(date_prev[:4]), int(date_prev[4:6]), int(date_prev[6:8]))\n",
        "      d1=date(int(date_now[:4]), int(date_now[4:6]), int(date_now[6:8]))\n",
        "      delta = d1 - d0\n",
        "      day_change = delta.days\n",
        "\n",
        "      if day_change > 28:\n",
        "        dict_elo[loser_name] = (dict_elo[loser_name] - 1200)/(1 + 1.001 ** (day_change/7)) +1200\n",
        "\n",
        "\n",
        "\n",
        "\n",
        "    score_list = score_str.split(' ')\n",
        "\n",
        "    for score in score_list:\n",
        "      if score == 'W/O' or score == 'RET':\n",
        "        continue\n",
        "      try:\n",
        "        score1, score2 = score.split('-')\n",
        "      except:\n",
        "        break\n",
        "\n",
        "      try:\n",
        "        score1 = int(score1)\n",
        "      except:\n",
        "        break\n",
        "\n",
        "      if '(' not in score2:\n",
        "\n",
        "        try:\n",
        "          score2 = int(score2)\n",
        "        except:\n",
        "          break\n",
        "\n",
        "        if score1 > score2:\n",
        "          score_win = score1\n",
        "          score_lose = score2\n",
        "        else:\n",
        "          score_win = score1\n",
        "          score_lose = score2\n",
        "      else:\n",
        "        len_score2 = len(score2)\n",
        "        for i in range(len_score2):\n",
        "          if score2[i] == '(':\n",
        "            mul=1\n",
        "            tie_score2=0\n",
        "            for j in range(i+1,100):\n",
        "              if score2[j] ==')':\n",
        "                break\n",
        "              tie_score2 += int(score2[j])\n",
        "              mul*=10\n",
        "        tmp=0\n",
        "        mul=1\n",
        "        for i in range(len_score2):\n",
        "          if score2[i] == '(':\n",
        "            break\n",
        "          tmp += int(score2[i])\n",
        "          mul *= 10\n",
        "\n",
        "        score2 = int(tmp)\n",
        "        if score1 > score2:\n",
        "          score2 += tie_score2\n",
        "          if tie_score2 <=5:\n",
        "            score1 += 7\n",
        "          else:\n",
        "            score1 += tie_score2 + 2\n",
        "          score_win = score1\n",
        "          score_lose = score2\n",
        "        \n",
        "        elif score1 < score2:\n",
        "          score1 += tie_score2\n",
        "          if tie_score2 <=5:\n",
        "            score2 += 7\n",
        "          else:\n",
        "            score2 += tie_score2 + 2\n",
        "          who_won = 2\n",
        "          score_win = score2\n",
        "          score_lose = score1\n",
        "\n",
        "\n",
        "      #score\n",
        "      score_win = int(score_win)\n",
        "      score_lose = int(score_lose)\n",
        "\n",
        "      if score_win - score_lose == 2:\n",
        "        d=1.8\n",
        "      elif score_win - score_lose == 3:\n",
        "        d=2\n",
        "      else:\n",
        "        d=2+0.1*(score_win - score_lose)\n",
        "      \n",
        "      if d<1:\n",
        "        break\n",
        "\n",
        "      if score_win == 7 or score_win == 6:\n",
        "        s=1\n",
        "      else:\n",
        "        s=1.5\n",
        "\n",
        "      if score_lose < 12:\n",
        "        t=1\n",
        "      else:\n",
        "        t=score_lose - 10\n",
        "\n",
        "      x=5\n",
        "      f=(d/s) ** (1/t)\n",
        "      k_factor = f*x\n",
        "  \n",
        "      change = k_factor * (1 - (1+10**((dict_elo[winner_name]-dict_elo[loser_name])/600) )**(-1))\n",
        "\n",
        "      if who_won == 1:\n",
        "\n",
        "        dict_elo[winner_name] += change\n",
        "        dict_elo[loser_name] -= change\n",
        "      elif who_won == 2:\n",
        "        dict_elo[winner_name] -= change\n",
        "        dict_elo[loser_name] += change \n",
        "\n",
        "      # dict_elo[winner_name] = max(0,dict_elo[winner_name])\n",
        "      # dict_elo[loser_name] = max(0,dict_elo[loser_name])\n",
        "\n",
        "  \n",
        "# elo_calc(winner_name='WINNER1', loser_name='LOSER1', score_mix = '6-0' )\n",
        "# print(dict_elo)"
      ],
      "execution_count": null,
      "outputs": []
    },
    {
      "cell_type": "code",
      "metadata": {
        "id": "_znlwZXQwdWF"
      },
      "source": [
        "def rerank(player_name, date_now, dict_elo, dict_prev):\n",
        "    if player_name not in dict_elo:\n",
        "      dict_elo[player_name] = 1200\n",
        "      dict_prev[player_name] = date_now\n",
        "    elif dict_elo[player_name] > 1200:\n",
        "      date_prev = str(dict_prev[player_name])\n",
        "      dict_prev[player_name]=date_now\n",
        "      date_now = str(date_now)\n",
        "      d0=date(int(date_prev[:4]), int(date_prev[4:6]), int(date_prev[6:8]))\n",
        "      d1=date(int(date_now[:4]), int(date_now[4:6]), int(date_now[6:8]))\n",
        "      delta = d1 - d0\n",
        "      day_change = delta.days\n",
        "    \n",
        "      if day_change < 4*7: \n",
        "        tmp=1\n",
        "      else:\n",
        "        dict_elo[player_name] = (dict_elo[player_name] - 1200)/(1 + 1.001 ** (100*day_change/7 - 1000)) +1200"
      ],
      "execution_count": null,
      "outputs": []
    },
    {
      "cell_type": "code",
      "metadata": {
        "id": "DzEqNDu7CsCi"
      },
      "source": [
        "def display(dict_elo):\n",
        "  df_elo = pd.DataFrame(list(dict_elo.items()), columns = ['Player Name', 'ELO'])\n",
        "\n",
        "  df_elo_sorted = df_elo.sort_values(by='ELO', ascending = False)\n",
        "  df_elo_sorted = df_elo_sorted.reset_index(drop=True)\n",
        "  df_elo_sorted.index +=1\n",
        "  print(df_elo_sorted.head(15))\n",
        "\n",
        "  mid = df_elo['ELO'].mean()\n",
        "  sd =  df_elo['ELO'].std()\n",
        "  num_player = df_elo.shape[0]\n",
        "  print('Number of Players:', num_player)\n",
        "  print('mean:', mid)\n",
        "  print('STD:', sd)\n",
        "  df_elo.plot.hist(bins=50)\n"
      ],
      "execution_count": null,
      "outputs": []
    },
    {
      "cell_type": "code",
      "metadata": {
        "colab": {
          "base_uri": "https://localhost:8080/",
          "height": 582
        },
        "id": "OMfcRY0uPxCR",
        "outputId": "e6cf1923-ad3e-4ef1-c4af-24a262901080"
      },
      "source": [
        "display(sprint_elo)"
      ],
      "execution_count": null,
      "outputs": [
        {
          "output_type": "stream",
          "text": [
            "            Player Name          ELO\n",
            "1           Aaron BROWN  1747.795080\n",
            "2          Femi OGUNODE  1603.383608\n",
            "3   Henricho BRUINTJIES  1601.374829\n",
            "4      Churandy MARTINA  1588.590601\n",
            "5         Mosito LEHATA  1561.915804\n",
            "6           Jeff PORTER  1508.067724\n",
            "7         Peimeng ZHANG  1468.385486\n",
            "8   Christophe LEMAITRE  1453.847930\n",
            "9            Zhenye XIE  1413.115649\n",
            "10          Yohan BLAKE  1391.682181\n",
            "11     Johnathan CABRAL  1376.516031\n",
            "12         Akeem HAYNES  1356.673393\n",
            "13       Keston BLEDMAN  1345.183436\n",
            "14         Luke BEZZINA  1335.250971\n",
            "15     Gabriel MVUMVURE  1319.982266\n",
            "Number of Players: 316\n",
            "mean: 1141.0943304619261\n",
            "STD: 175.57471014951219\n"
          ],
          "name": "stdout"
        },
        {
          "output_type": "display_data",
          "data": {
            "image/png": "[encoded data removed]",
            "text/plain": [
              "<Figure size 432x288 with 1 Axes>"
            ]
          },
          "metadata": {
            "tags": [],
            "needs_background": "light"
          }
        }
      ]
    },
    {
      "cell_type": "markdown",
      "metadata": {
        "id": "SBHwBA5Dwhow"
      },
      "source": [
        "#CODE\n"
      ]
    },
    {
      "cell_type": "code",
      "metadata": {
        "id": "yeenZzdWcv1p"
      },
      "source": [
        "# grandslam_name =['Wimbledon', 'Roland Garros', 'US Open', 'Australia Open']\n",
        "\n",
        "# grandslam = wta_match_2018.loc[wta_match_2018['tourney_name'].isin(grandslam_name)]\n",
        "# grandslam.reset_index()\n",
        "\n",
        "# grandslam_elo ={}\n",
        "\n",
        "# len_grandslam = grandslam.shape[0]\n",
        "\n",
        "# ss = set()\n",
        "\n",
        "# for i in range(len_grandslam):\n",
        "#   player1 = grandslam.iloc[i]['winner_name']\n",
        "#   player2 = grandslam.iloc[i]['loser_name']\n",
        "\n",
        "#   ss.add(player1)\n",
        "#   ss.add(player2)\n",
        "#   try:\n",
        "#     grandslam_elo[player1] = wta_elo[player1]\n",
        "#   except:\n",
        "#     grandslam_elo[player1] = 1200\n",
        "\n",
        "#   try:\n",
        "#     grandslam_elo[player2] = wta_elo[player2]\n",
        "#   except:\n",
        "#     grandslam_elo[player2] = 1200\n",
        "\n",
        "# for i in range(len_grandslam):\n",
        "#   winner = grandslam.iloc[i]['winner_name']\n",
        "#   loser = grandslam.iloc[i]['loser_name']\n",
        "#   date_tour = grandslam.iloc[i]['tourney_date']\n",
        "\n",
        "#   score_mix = grandslam.iloc[i]['score']\n",
        "#   score_list = score_mix.split(' ')\n",
        "\n",
        "#   elo_calc(winner_name=winner, loser_name=loser, score_str=score_mix, date_now=date_tour)"
      ],
      "execution_count": null,
      "outputs": []
    },
    {
      "cell_type": "markdown",
      "metadata": {
        "id": "sCpkv-ZmcoBY"
      },
      "source": [
        "#Athletics Sprint Results in all Heats for 2004 - 2016 Olympics for Men\n",
        "\n"
      ]
    },
    {
      "cell_type": "code",
      "metadata": {
        "id": "PTK_txuDptBA"
      },
      "source": [
        "def elo_calc_sprint(winner_name, loser_name, time_win, time_lose, date_now, dict_elo, dict_prev):\n",
        "    ## Set new ELOs and change ELOs due to inactivity\n",
        "    if winner_name not in dict_elo:\n",
        "      dict_elo[winner_name] = 1200\n",
        "      dict_prev[winner_name] = date_now\n",
        "    elif dict_elo[winner_name] > 1200:\n",
        "      date_prev = str(dict_prev[winner_name])\n",
        "      dict_prev[winner_name]=date_now\n",
        "      date_now = str(date_now)\n",
        "      d0=date(int(date_prev[:4]), int(date_prev[4:6]), int(date_prev[6:8]))\n",
        "      d1=date(int(date_now[:4]), int(date_now[4:6]), int(date_now[6:8]))\n",
        "      delta = d1 - d0\n",
        "      day_change = delta.days\n",
        "\n",
        "      if day_change < 4*7:\n",
        "        tmp=1\n",
        "      else:\n",
        "        dict_elo[winner_name] = (dict_elo[winner_name] - 1200)/(1 + 1.001 ** (100*day_change/7 - 1000)) +1200\n",
        "\n",
        "\n",
        "    date_now =str(date_now)\n",
        "\n",
        "    if loser_name not in dict_elo:\n",
        "      dict_elo[loser_name] = 1200\n",
        "      dict_prev[loser_name] = date_now\n",
        "    elif dict_elo[loser_name] > 1200:\n",
        "      date_prev = str(dict_prev[loser_name])\n",
        "      dict_prev[loser_name]=date_now\n",
        "      date_now = str(date_now)\n",
        "      d0=date(int(date_prev[:4]), int(date_prev[4:6]), int(date_prev[6:8]))\n",
        "      d1=date(int(date_now[:4]), int(date_now[4:6]), int(date_now[6:8]))\n",
        "      delta = d1 - d0\n",
        "      day_change = delta.days\n",
        "\n",
        "      if day_change < 4*7:\n",
        "        tmp=1\n",
        "      else:\n",
        "        dict_elo[loser_name] = (dict_elo[loser_name] - 1200)/(1 + 1.001 ** (100*day_change/7 - 1000)) + 1200\n",
        "\n",
        "    #Calculating X from Normal Distribution\n",
        "    mid = np.mean(list(dict_elo.values()))\n",
        "    std = np.std(list(dict_elo.values()))\n",
        "\n",
        "    try:\n",
        "      z_score_winner = (dict_elo[winner_name] - mid) / std\n",
        "      z_score_loser = (dict_elo[loser_name] - mid) / std\n",
        "    except:\n",
        "      x1=1\n",
        "      x2=1\n",
        "\n",
        "    if z_score_winner >= 2 :\n",
        "      x1 = 5\n",
        "    elif z_score_winner >= 1 :\n",
        "      x1 = 4\n",
        "    elif z_score_winner >= 0 :\n",
        "      x1 = 3\n",
        "    elif z_score_winner >= -1 :\n",
        "      x1 = 2\n",
        "    else :\n",
        "      x1 = 1\n",
        "\n",
        "    if z_score_loser >= 2 :\n",
        "      x2 = 5\n",
        "    elif z_score_loser >= 1 :\n",
        "      x2 = 4\n",
        "    elif z_score_loser >= 0 :\n",
        "      x2 = 3\n",
        "    elif z_score_loser >= -1 :\n",
        "      x2 = 2\n",
        "    else :\n",
        "      x2 = 1\n",
        "     \n",
        "    d=time_lose - time_win\n",
        "    t=time_win + time_lose\n",
        "    f= 1.05 ** (1/d + 1/t)\n",
        "\n",
        "      \n",
        "    k_factor_loss = f*x1\n",
        "    k_factor_won = f*x2\n",
        "    \n",
        "\n",
        "    change_won = k_factor_won * (1 - (1+10**((dict_elo[loser_name]-dict_elo[winner_name])/600) )**(-1))\n",
        "    change_loss = k_factor_loss * (1 - (1+10**((dict_elo[winner_name]-dict_elo[loser_name])/600) )**(-1))\n",
        "\n",
        "    dict_elo[winner_name] += change_won\n",
        "    dict_elo[loser_name] -= change_loss\n",
        "\n",
        "    # dict_elo[winner_name] = max(0,dict_elo[winner_name])\n",
        "    # dict_elo[loser_name] = max(0,dict_elo[loser_name])\n",
        "\n",
        "  \n",
        "# elo_calc(winner_name='WINNER1', loser_name='LOSER1', score_mix = '6-0' )\n",
        "# print(dict_elo)"
      ],
      "execution_count": null,
      "outputs": []
    },
    {
      "cell_type": "code",
      "metadata": {
        "id": "FkwVwbYgG20o"
      },
      "source": [
        "def rerank_sprint(player_name, date_now, dict_elo, dict_prev):\n",
        "    if player_name not in dict_elo:\n",
        "      dict_elo[player_name] = 1200\n",
        "      dict_prev[player_name] = date_now\n",
        "    elif dict_elo[player_name] > 1200:\n",
        "      date_prev = str(dict_prev[player_name])\n",
        "      dict_prev[player_name]=date_now\n",
        "      date_now = str(date_now)\n",
        "      d0=date(int(date_prev[:4]), int(date_prev[4:6]), int(date_prev[6:8]))\n",
        "      d1=date(int(date_now[:4]), int(date_now[4:6]), int(date_now[6:8]))\n",
        "      delta = d1 - d0\n",
        "      day_change = delta.days\n",
        "    \n",
        "      if day_change < 1*7: \n",
        "        tmp=1\n",
        "      else:\n",
        "        dict_elo[player_name] = (dict_elo[player_name] - 1200)/(1 + 1.001 ** (100*day_change/7 - 600)) +1200"
      ],
      "execution_count": null,
      "outputs": []
    },
    {
      "cell_type": "code",
      "metadata": {
        "colab": {
          "base_uri": "https://localhost:8080/"
        },
        "id": "h26GpOV_cnfo",
        "outputId": "1bbbf142-8082-46c1-a5eb-c8e131b34a06"
      },
      "source": [
        "global sprint_elo\n",
        "sprint_elo  = {}\n",
        "global sprint_elo\n",
        "sprint_prev = {}\n",
        "\n",
        "sprint_result = pd.read_csv('/content/2004-2016-Short-Races.csv', encoding='latin-1' )\n",
        "df_sprint = pd.DataFrame(sprint_result)\n",
        "df_sprint = df_sprint[df_sprint['Gender'] == 'M']\n",
        "\n",
        "tour_name = ['Preliminary', 'Heats', 'Semi', 'Final']\n",
        "\n",
        "for year in range(2004,2017):\n",
        "\n",
        "  if year%4!=0:\n",
        "    continue\n",
        "  print(year)\n",
        "  date_tour = str(year)+'01'+'01'\n",
        "  df_year = df_sprint[df_sprint['Year'] == year]\n",
        "\n",
        "  for tour in tour_name:\n",
        "    df_year_tour = df_year[df_year['Round'] == tour]\n",
        "    \n",
        "  \n",
        "# keys=player_name, items = current_elo\n",
        "\n",
        "    len_df_sprint = df_year_tour.shape[0]\n",
        "\n",
        "    for i in range(len_df_sprint):\n",
        "      \n",
        "      player1 = df_year_tour.iloc[i]['ATHLETE']\n",
        "      time1 = df_year_tour.iloc[i]['MARK']\n",
        "      for j in range(i+1,len_df_sprint):\n",
        "        player2 = df_year_tour.iloc[j]['ATHLETE']\n",
        "        time2 = df_year_tour.iloc[j]['MARK']\n",
        "\n",
        "        if type(time1) == 'str':\n",
        "          time1.strip('Q')\n",
        "          time1.strip('q')\n",
        "        if type(time2) == 'str':\n",
        "          time2.strip('Q')\n",
        "          time2.strip('q')\n",
        "\n",
        "        try:\n",
        "          time1=float(time1)\n",
        "          time2=float(time2)\n",
        "        except:\n",
        "          continue\n",
        "        if time1 < time2:\n",
        "          elo_calc_sprint(winner_name=player1, loser_name=player2, time_win = time1, time_lose=time2, date_now = date_tour,dict_elo = sprint_elo, dict_prev = sprint_prev)\n",
        "      \n",
        "        elif time1 > time2:\n",
        "          elo_calc_sprint(winner_name=player2, loser_name=player1, time_win = time2, time_lose=time1, date_now = date_tour,dict_elo = sprint_elo, dict_prev = sprint_prev)\n",
        "\n",
        "           \n",
        "\n",
        "        "
      ],
      "execution_count": null,
      "outputs": [
        {
          "output_type": "stream",
          "text": [
            "2004\n"
          ],
          "name": "stdout"
        },
        {
          "output_type": "stream",
          "text": [
            "/usr/local/lib/python3.7/dist-packages/ipykernel_launcher.py:45: RuntimeWarning: invalid value encountered in double_scalars\n",
            "/usr/local/lib/python3.7/dist-packages/ipykernel_launcher.py:46: RuntimeWarning: invalid value encountered in double_scalars\n"
          ],
          "name": "stderr"
        },
        {
          "output_type": "stream",
          "text": [
            "2008\n",
            "2012\n",
            "2016\n"
          ],
          "name": "stdout"
        }
      ]
    },
    {
      "cell_type": "code",
      "metadata": {
        "id": "qsTVachbx7sf"
      },
      "source": [
        "date_tour = str(2016) + '01' + '01'\n",
        "for key in sprint_elo.keys():\n",
        "  rerank_sprint(player_name=key, date_now=date_tour, dict_elo=sprint_elo, dict_prev=sprint_prev)"
      ],
      "execution_count": null,
      "outputs": []
    },
    {
      "cell_type": "code",
      "metadata": {
        "id": "BTGP-1i1t0vJ",
        "colab": {
          "base_uri": "https://localhost:8080/",
          "height": 582
        },
        "outputId": "29363af0-0759-4e89-a357-c20c6ae8dd4a"
      },
      "source": [
        "display(sprint_elo)"
      ],
      "execution_count": null,
      "outputs": [
        {
          "output_type": "stream",
          "text": [
            "              Player Name          ELO\n",
            "1         Souhalia ALAMOU  1758.947034\n",
            "2            Nilson ANDRÈ  1756.360452\n",
            "3             Aaron BROWN  1747.795080\n",
            "4            Femi OGUNODE  1603.383608\n",
            "5     Henricho BRUINTJIES  1601.374829\n",
            "6        Churandy MARTINA  1588.590601\n",
            "7            Sandro VIANA  1566.019864\n",
            "8        Masashi ERIGUCHI  1565.612144\n",
            "9      Dmytro HLUSHCHENKO  1564.485054\n",
            "10          Mosito LEHATA  1561.915804\n",
            "11          Seng Song POH  1543.145788\n",
            "12          Warren FRASER  1534.291945\n",
            "13  Ángel David RODRÍGUEZ  1526.305531\n",
            "14            Jeff PORTER  1508.067724\n",
            "15         Aleksey DREMIN  1483.187199\n",
            "Number of Players: 316\n",
            "mean: 1169.3941440165327\n",
            "STD: 201.51287182501991\n"
          ],
          "name": "stdout"
        },
        {
          "output_type": "display_data",
          "data": {
            "image/png": "[encoded data removed]",
            "text/plain": [
              "<Figure size 432x288 with 1 Axes>"
            ]
          },
          "metadata": {
            "tags": [],
            "needs_background": "light"
          }
        }
      ]
    },
    {
      "cell_type": "markdown",
      "metadata": {
        "id": "uJfrnrjh15bZ"
      },
      "source": [
        "#WTA Grand Slam 2018 Fourth Round to Final"
      ]
    },
    {
      "cell_type": "code",
      "metadata": {
        "id": "kzoi0RWA2JHi",
        "colab": {
          "base_uri": "https://localhost:8080/"
        },
        "outputId": "453db078-1d43-4f0f-bbad-e2c1e08e0f6c"
      },
      "source": [
        "global wta_elo\n",
        "global wta_prev\n",
        "wta_elo = {}\n",
        "wta_prev = {}\n",
        "for i in range(2018,2019):\n",
        "  wta_matches_csv = pd.read_csv('/content/Grandslam2018.csv')\n",
        "  wta_matches_i = pd.DataFrame(wta_matches_csv)\n",
        "# keys=player_name, items = current_elo\n",
        "\n",
        "  len_wta_matches_i = wta_matches_i.shape[0]\n",
        "  for j in range(len_wta_matches_i):\n",
        "    \n",
        "    winner = wta_matches_i.iloc[j]['winner_name']\n",
        "    loser = wta_matches_i.iloc[j]['loser_name']\n",
        "    date_tour = wta_matches_i.iloc[j]['tourney_date']\n",
        "\n",
        "    score_mix = str(wta_matches_i.iloc[j]['score'])\n",
        "\n",
        "    elo_calc(winner_name=winner, loser_name=loser, score_str=score_mix, date_now = date_tour,dict_elo=wta_elo,dict_prev=wta_prev)\n",
        "  print('year:', i,' player count:',len(wta_elo))\n",
        "\n",
        "# print(wta_elo)\n"
      ],
      "execution_count": null,
      "outputs": [
        {
          "output_type": "stream",
          "text": [
            "year: 2018  player count: 68\n"
          ],
          "name": "stdout"
        }
      ]
    },
    {
      "cell_type": "code",
      "metadata": {
        "id": "zJwHmBJo5nD5"
      },
      "source": [
        "date_tour= str(2018) + '01' +'01'\n",
        "for name in wta_elo.keys():\n",
        "  rerank(player_name=name, date_now = date_tour,dict_elo=wta_elo, dict_prev=wta_prev)"
      ],
      "execution_count": null,
      "outputs": []
    },
    {
      "cell_type": "code",
      "metadata": {
        "id": "tctl3Wii5bNH",
        "colab": {
          "base_uri": "https://localhost:8080/",
          "height": 582
        },
        "outputId": "0bf6ed4a-2730-41cb-e7cc-6045c12f9416"
      },
      "source": [
        "\n",
        "display(wta_elo)"
      ],
      "execution_count": null,
      "outputs": [
        {
          "output_type": "stream",
          "text": [
            "                   Player Name          ELO\n",
            "1              Serena Williams  1262.889003\n",
            "2             Angelique Kerber  1257.500083\n",
            "3                 Simona Halep  1254.375068\n",
            "4           Caroline Wozniacki  1242.224992\n",
            "5                 Madison Keys  1239.365038\n",
            "6                  Naomi Osaka  1235.588106\n",
            "7         Carla Suarez Navarro  1229.365096\n",
            "8         Anastasija Sevastova  1229.040461\n",
            "9              Sloane Stephens  1226.352943\n",
            "10         Marketa Vondrousova  1226.132877\n",
            "11         Alison Van Uytvanck  1224.726176\n",
            "12            Garbine Muguruza  1217.907234\n",
            "13               Julia Goerges  1215.043765\n",
            "14            Yulia Putintseva  1213.763376\n",
            "15  Barbora Zahlavova Strycova  1208.391308\n",
            "Number of Players: 68\n",
            "mean: 1198.2842415110297\n",
            "STD: 21.086753210955703\n"
          ],
          "name": "stdout"
        },
        {
          "output_type": "display_data",
          "data": {
            "image/png": "[encoded data removed]",
            "text/plain": [
              "<Figure size 432x288 with 1 Axes>"
            ]
          },
          "metadata": {
            "tags": [],
            "needs_background": "light"
          }
        }
      ]
    },
    {
      "cell_type": "markdown",
      "metadata": {
        "id": "E3NGfOVGBF2T"
      },
      "source": [
        "#WTA Tournament from 1948 to 2018"
      ]
    },
    {
      "cell_type": "code",
      "metadata": {
        "id": "pnrCx5di2JIl"
      },
      "source": [
        "# input the winner => player1 and the loser => player2\n",
        "global wta_elo\n",
        "global wta_prev\n",
        "wta_elo = {}\n",
        "wta_prev = {}\n",
        "\n",
        "for i in range(2018,2019):\n",
        "  f= 'wta_matches_' +str(i) +'.csv'\n",
        "\n",
        "  wta_matches_csv = pd.read_csv('https://github.com/JeffSackmann/tennis_wta/raw/master/' + f)\n",
        "  wta_matches_i = pd.DataFrame(wta_matches_csv)\n",
        "\n",
        "  len_wta_matches_i = wta_matches_i.shape[0]\n",
        "  for j in range(len_wta_matches_i):\n",
        "    \n",
        "    winner = wta_matches_i.iloc[j]['winner_name']\n",
        "    loser = wta_matches_i.iloc[j]['loser_name']\n",
        "    date_tour = wta_matches_i.iloc[j]['tourney_date']\n",
        "\n",
        "    score_mix = str(wta_matches_i.iloc[j]['score'])\n",
        "\n",
        "    elo_calc_nutch(winner_name=winner, loser_name=loser, score_str=score_mix, date_now = date_tour,dict_elo=wta_elo,dict_prev=wta_prev)\n",
        "  print('year:', i,' player count:',len(wta_elo))\n",
        "\n",
        "# print(wta_elo)"
      ],
      "execution_count": null,
      "outputs": []
    },
    {
      "cell_type": "code",
      "metadata": {
        "id": "21e07Po8sDXb"
      },
      "source": [
        "date_tour= str(2018) + '01' +'01'\n",
        "for name in wta_elo.keys():\n",
        "  rerank(player_name=name, date_now = date_tour,dict_elo=wta_elo, dict_prev=wta_prev)"
      ],
      "execution_count": null,
      "outputs": []
    },
    {
      "cell_type": "code",
      "metadata": {
        "id": "7BDWnAkV2bku"
      },
      "source": [
        "# Displaying the ELO Rating distribution\n",
        "display(wta_elo)"
      ],
      "execution_count": null,
      "outputs": []
    },
    {
      "cell_type": "markdown",
      "metadata": {
        "id": "H2ITOKJJKLD1"
      },
      "source": [
        "#Letter's Program"
      ]
    },
    {
      "cell_type": "code",
      "metadata": {
        "id": "3cPdOaiGnZic"
      },
      "source": [
        "print(\"What's your gender ? : (Male / Female)\")\n",
        "sex = input()\n",
        "\n",
        "print(\"What's your name ? :\")\n",
        "DTS_name = input()\n",
        "\n",
        "if sex == 'Male' or sex == 'male' :\n",
        "  print('Hi, Mr.%s' %DTS_name)\n",
        "else :\n",
        "  print(\"Hi, Mrs.%s\" %DTS_name)\n",
        "\n",
        "print('This is GFinder, a program to calculate players\\' rating based on our mathematical model')\n",
        "print('How to use:')\n",
        "print('Enter the required information to the program')\n",
        "print('We hope you to like it')\n",
        "print('Thank you')\n",
        "\n",
        "print('*************** S T A R T - G F i n d e r ***************')\n",
        "\n",
        "global letter_elo\n",
        "letter_elo = {}\n",
        "global letter_prev\n",
        "letter_prev = {}\n",
        "\n",
        "i=1\n",
        "while 1 :\n",
        "  print('Match %d :' %i)\n",
        "  print('Enter match date : (YYYYMMDD)')\n",
        "  tour_date=input()\n",
        "  \n",
        "  print('Enter winner name : ')\n",
        "  winner = input()\n",
        "\n",
        "\n",
        "  print('Enter loser name : ')\n",
        "  loser = input()\n",
        "\n",
        "  print('Does this match has a Tiebreaker? : (Y/N)')\n",
        "  tie=str(input())\n",
        "\n",
        "  if tie =='Y':\n",
        "    print('Enter loser\\'s tiebreaker score : ')\n",
        "    st2 = int(input())\n",
        "    score_mix = str(s1) + '-' + str(s2) +'(' + str(st2) + ')'\n",
        "  else:\n",
        "    print('Enter winner\\'s score : ')\n",
        "    s1 = int(input())\n",
        "    print('Enter loser\\'s score : ')\n",
        "    s2 = int(input())\n",
        "    score_mix = str(s1) + '-' + str(s2)\n",
        "  \n",
        "  elo_calc(winner_name=winner,loser_name=loser,score_str=score_mix, date_now=tour_date, dict_elo=letter_elo,dict_prev=letter_prev)\n",
        "\n",
        "  i=i+1\n",
        "  \n",
        "  print('ELO Rating Updated Completed')\n",
        "  print('Continue the Program? : (Y/N)')\n",
        "  con = str(input())\n",
        "  if con == 'N':\n",
        "    break\n",
        "\n",
        "print('ELO Ranking')\n",
        "display(letter_elo)"
      ],
      "execution_count": null,
      "outputs": []
    }
  ]
}